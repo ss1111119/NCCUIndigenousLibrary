{
  "nbformat": 4,
  "nbformat_minor": 0,
  "metadata": {
    "colab": {
      "provenance": [],
      "authorship_tag": "ABX9TyPytEeIKd5/fPB26l3BJVtX",
      "include_colab_link": true
    },
    "kernelspec": {
      "name": "python3",
      "display_name": "Python 3"
    },
    "language_info": {
      "name": "python"
    }
  },
  "cells": [
    {
      "cell_type": "markdown",
      "metadata": {
        "id": "view-in-github",
        "colab_type": "text"
      },
      "source": [
        "<a href=\"https://colab.research.google.com/github/ss1111119/NCCUIndigenousLibrary/blob/main/%E5%8F%96%E5%BE%9742%E6%96%B9%E8%A8%80%E7%B7%A8%E8%99%9F.ipynb\" target=\"_parent\"><img src=\"https://colab.research.google.com/assets/colab-badge.svg\" alt=\"Open In Colab\"/></a>"
      ]
    },
    {
      "cell_type": "code",
      "execution_count": null,
      "metadata": {
        "id": "Z1CUOTqtZDNi"
      },
      "outputs": [],
      "source": [
        "# 將方言別編號\n",
        "import requests\n",
        "from bs4 import BeautifulSoup\n",
        "\n",
        "def fetch_h2_content_to_dict(start_id, end_id):\n",
        "    lessons_dict = {}  # 創建一個空字典來存儲 ID 和標籤內容\n",
        "\n",
        "    for page_id in range(start_id, end_id + 1):\n",
        "        url = f\"https://ebook.alcd.center/learning?view=adm_learning&id={page_id}\"\n",
        "        response = requests.get(url)\n",
        "\n",
        "        if response.status_code == 200:\n",
        "            soup = BeautifulSoup(response.content, 'html.parser')\n",
        "            h2_tags = soup.find_all('h2', style=\"color: #88015d\")\n",
        "\n",
        "            for tag in h2_tags:\n",
        "                # 將 ID 和標籤內容添加到字典\n",
        "                lessons_dict[page_id] = tag.text.strip()\n",
        "        else:\n",
        "            print(f\"無法從 ID {page_id} 網頁獲取資料\")\n",
        "\n",
        "    return lessons_dict\n",
        "\n",
        "# 設定要抓取的頁面 ID 範圍\n",
        "start_id = 789\n",
        "end_id = 831\n",
        "\n",
        "# 789-831(10階), 880-923(11階),969-1011(12階)\n",
        "\n",
        "# 執行函數並獲取字典\n",
        "lessons_content = fetch_h2_content_to_dict(start_id, end_id)\n",
        "\n",
        "# 打印字典以查看結果\n",
        "for id, content in lessons_content.items():\n",
        "    print(f'{id}: \"{content}\",')\n"
      ]
    }
  ]
}